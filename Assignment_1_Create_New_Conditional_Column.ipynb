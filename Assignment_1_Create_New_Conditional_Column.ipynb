{
 "cells": [
  {
   "cell_type": "code",
   "execution_count": 1,
   "id": "1a30b5c4",
   "metadata": {},
   "outputs": [
    {
     "name": "stdout",
     "output_type": "stream",
     "text": [
      "        ship_mode  sales  profit  surcharge  total cost\n",
      "0        Same Day    100      30       0.20        84.0\n",
      "1     First Class    200      40       0.10       176.0\n",
      "2  Standard Class    150      50       0.05       105.0\n",
      "3         Express    300      80       0.00       220.0\n",
      "4        Same Day    120      25       0.20       114.0\n"
     ]
    }
   ],
   "source": [
    "import pandas as pd\n",
    "\n",
    "data = {\n",
    "    'ship_mode': [\"Same Day\", \"First Class\", \"Standard Class\", \"Express\", \"Same Day\"],\n",
    "    'sales': [100, 200, 150, 300, 120],\n",
    "    'profit': [30, 40, 50, 80, 25]\n",
    "}\n",
    "\n",
    "df = pd.DataFrame(data)\n",
    "\n",
    "def calculate_surcharge(row):\n",
    "    if row['ship_mode'] == \"Same Day\":\n",
    "        return 0.2\n",
    "    elif row['ship_mode'] == \"First Class\":\n",
    "        return 0.1\n",
    "    elif row['ship_mode'] == \"Standard Class\":\n",
    "        return 0.05\n",
    "    else:\n",
    "        return 0\n",
    "\n",
    "df['surcharge'] = df.apply(calculate_surcharge, axis=1)\n",
    "\n",
    "df['total cost'] = (df['sales'] - df['profit']) * (1 + df['surcharge'])\n",
    "\n",
    "print(df)"
   ]
  },
  {
   "cell_type": "code",
   "execution_count": null,
   "id": "e4e058bf",
   "metadata": {},
   "outputs": [],
   "source": []
  }
 ],
 "metadata": {
  "kernelspec": {
   "display_name": "Python 3 (ipykernel)",
   "language": "python",
   "name": "python3"
  },
  "language_info": {
   "codemirror_mode": {
    "name": "ipython",
    "version": 3
   },
   "file_extension": ".py",
   "mimetype": "text/x-python",
   "name": "python",
   "nbconvert_exporter": "python",
   "pygments_lexer": "ipython3",
   "version": "3.11.3"
  }
 },
 "nbformat": 4,
 "nbformat_minor": 5
}
